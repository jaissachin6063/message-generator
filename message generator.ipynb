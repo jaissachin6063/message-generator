{
 "cells": [
  {
   "cell_type": "code",
   "execution_count": 5,
   "id": "ecf7cb0f-1da2-4dcb-9c29-d280f6c9d40a",
   "metadata": {},
   "outputs": [
    {
     "name": "stdin",
     "output_type": "stream",
     "text": [
      "Enter your first name:  sachin\n",
      "Enter your last name:  jaiswal\n"
     ]
    },
    {
     "name": "stdout",
     "output_type": "stream",
     "text": [
      "Hello, sachin jaiswal! You just developed into python.\n"
     ]
    }
   ],
   "source": [
    "def generate_greeting(first_name, last_name):\n",
    "    # Generate a personalized greeting message\n",
    "    greeting = f\"Hello, {first_name} {last_name}! You just developed into python.\"\n",
    "    return greeting\n",
    "\n",
    "# Input from the user\n",
    "first_name = input(\"Enter your first name: \")\n",
    "last_name = input(\"Enter your last name: \")\n",
    "\n",
    "# Generate and display the greeting message\n",
    "message = generate_greeting(first_name, last_name)\n",
    "print(message)\n"
   ]
  },
  {
   "cell_type": "code",
   "execution_count": null,
   "id": "1b2f4cb2-b0be-4696-a98f-cd03ddb5a202",
   "metadata": {},
   "outputs": [],
   "source": []
  }
 ],
 "metadata": {
  "kernelspec": {
   "display_name": "Python 3 (ipykernel)",
   "language": "python",
   "name": "python3"
  },
  "language_info": {
   "codemirror_mode": {
    "name": "ipython",
    "version": 3
   },
   "file_extension": ".py",
   "mimetype": "text/x-python",
   "name": "python",
   "nbconvert_exporter": "python",
   "pygments_lexer": "ipython3",
   "version": "3.12.4"
  }
 },
 "nbformat": 4,
 "nbformat_minor": 5
}
